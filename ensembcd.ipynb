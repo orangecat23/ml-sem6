{
 "cells": [
  {
   "cell_type": "code",
   "execution_count": 1,
   "id": "071793d4-87fd-48d1-907b-75726dc78326",
   "metadata": {},
   "outputs": [],
   "source": [
    "import numpy as np\n",
    "import pandas as pd\n",
    "import matplotlib.pyplot as plt\n",
    "import seaborn as sns\n",
    "from sklearn.datasets import load_breast_cancer\n",
    "from sklearn.ensemble import RandomForestClassifier, GradientBoostingClassifier, VotingClassifier, StackingClassifier\n",
    "from sklearn.linear_model import LogisticRegression\n",
    "from sklearn.svm import SVC\n",
    "from sklearn.neighbors import KNeighborsClassifier\n",
    "from sklearn.model_selection import train_test_split\n",
    "from sklearn.metrics import accuracy_score, f1_score, confusion_matrix"
   ]
  },
  {
   "cell_type": "code",
   "execution_count": 2,
   "id": "c1265901-fcfd-4c37-ac0d-b7df8838c38b",
   "metadata": {},
   "outputs": [],
   "source": [
    "data = load_breast_cancer()\n",
    "X, y = data.data, data.target\n"
   ]
  },
  {
   "cell_type": "code",
   "execution_count": 3,
   "id": "c61272e3-e238-4b3a-8f33-05b87da29349",
   "metadata": {},
   "outputs": [],
   "source": [
    "X_train, X_test, y_train, y_test = train_test_split(X, y, test_size=0.3, random_state=42)\n"
   ]
  },
  {
   "cell_type": "code",
   "execution_count": 4,
   "id": "ef2f22f1-8894-4d32-88f3-6d270d75274e",
   "metadata": {},
   "outputs": [],
   "source": [
    "svc = SVC(probability=True, kernel='linear')\n",
    "lr = LogisticRegression(max_iter=10000)\n",
    "knn = KNeighborsClassifier()"
   ]
  },
  {
   "cell_type": "code",
   "execution_count": 5,
   "id": "b10b52dc-3186-4126-b3fb-419b9c3b68df",
   "metadata": {},
   "outputs": [],
   "source": [
    "models = {\n",
    "    \"Random Forest (Bagging)\": RandomForestClassifier(n_estimators=100, random_state=42),\n",
    "    \"Gradient Boosting\": GradientBoostingClassifier(n_estimators=100, random_state=42),\n",
    "    \"Voting Classifier\": VotingClassifier(estimators=[('lr', lr), ('svc', svc), ('knn', knn)], voting='hard'),\n",
    "    \"Stacking Classifier\": StackingClassifier(\n",
    "        estimators=[('lr', lr), ('svc', svc), ('knn', knn)],\n",
    "        final_estimator=LogisticRegression(),\n",
    "        passthrough=True\n",
    "    )\n",
    "}\n",
    "results = {}\n",
    "conf_matrices = {}"
   ]
  },
  {
   "cell_type": "code",
   "execution_count": null,
   "id": "d16c6f64-5960-4cdc-87f1-d83ea01a665e",
   "metadata": {},
   "outputs": [],
   "source": [
    "for name, model in models.items():\n",
    "    model.fit(X_train, y_train)\n",
    "    y_pred = model.predict(X_test)\n",
    "    acc = accuracy_score(y_test, y_pred)\n",
    "    f1 = f1_score(y_test, y_pred, average='weighted')\n",
    "    results[name] = {\"accuracy\": acc, \"f1_score\": f1}\n",
    "    conf_matrices[name] = confusion_matrix(y_test, y_pred)"
   ]
  },
  {
   "cell_type": "code",
   "execution_count": null,
   "id": "01b28ad0-a42b-4156-8bbb-992d0ce4b0d0",
   "metadata": {},
   "outputs": [],
   "source": [
    "print(\"🎯 Model Scores:\")\n",
    "for name, scores in results.items():\n",
    "    print(f\"{name}: Accuracy = {scores['accuracy']:.4f}, F1-Score = {scores['f1_score']:.4f}\")\n"
   ]
  },
  {
   "cell_type": "code",
   "execution_count": null,
   "id": "bc10ccc8-2ed2-4da8-807c-86c4b8de8b5e",
   "metadata": {},
   "outputs": [],
   "source": [
    "labels = list(results.keys())\n",
    "accuracy_vals = [results[name][\"accuracy\"] for name in labels]\n",
    "f1_vals = [results[name][\"f1_score\"] for name in labels]\n"
   ]
  },
  {
   "cell_type": "code",
   "execution_count": null,
   "id": "82df6965-3148-4aef-af03-6db16e7c39b2",
   "metadata": {},
   "outputs": [],
   "source": [
    "x = np.arange(len(labels))\n",
    "width = 0.35"
   ]
  },
  {
   "cell_type": "code",
   "execution_count": null,
   "id": "86682a8d-9558-4e6d-97f2-b480a5a7b1e5",
   "metadata": {},
   "outputs": [],
   "source": [
    "plt.figure(figsize=(12, 6))\n",
    "plt.bar(x - width/2, accuracy_vals, width, label='Accuracy', color='skyblue')\n",
    "plt.bar(x + width/2, f1_vals, width, label='F1 Score', color='lightgreen')\n",
    "plt.ylabel('Score')\n",
    "plt.title('Accuracy & F1 Score Comparison')\n",
    "plt.xticks(ticks=x, labels=labels, rotation=20)\n",
    "plt.ylim(0.9, 1.0)\n",
    "plt.legend()\n",
    "plt.grid(axis='y', linestyle='--', alpha=0.6)\n",
    "plt.tight_layout()\n",
    "plt.show()"
   ]
  },
  {
   "cell_type": "code",
   "execution_count": null,
   "id": "36fe58df-1f18-4cb5-999a-e96891e786da",
   "metadata": {},
   "outputs": [],
   "source": [
    "fig, axs = plt.subplots(2, 2, figsize=(12, 10))\n",
    "axs = axs.ravel()\n",
    "for i, (name, cm) in enumerate(conf_matrices.items()):\n",
    "    sns.heatmap(cm, annot=True, fmt='d', cmap='Blues', ax=axs[i])\n",
    "    axs[i].set_title(f\"Confusion Matrix - {name}\")\n",
    "    axs[i].set_xlabel(\"Predicted\")\n",
    "    axs[i].set_ylabel(\"Actual\")\n",
    "plt.tight_layout()\n",
    "plt.show()"
   ]
  }
 ],
 "metadata": {
  "kernelspec": {
   "display_name": "Python 3 (ipykernel)",
   "language": "python",
   "name": "python3"
  },
  "language_info": {
   "codemirror_mode": {
    "name": "ipython",
    "version": 3
   },
   "file_extension": ".py",
   "mimetype": "text/x-python",
   "name": "python",
   "nbconvert_exporter": "python",
   "pygments_lexer": "ipython3",
   "version": "3.12.5"
  }
 },
 "nbformat": 4,
 "nbformat_minor": 5
}
